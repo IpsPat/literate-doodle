{
 "cells": [
  {
   "cell_type": "code",
   "execution_count": null,
   "metadata": {
    "collapsed": true
   },
   "outputs": [],
   "source": [
    "# Principal Component Analysis\n",
    "# Author :Ipsita Patnaik"
   ]
  },
  {
   "cell_type": "code",
   "execution_count": 311,
   "metadata": {
    "collapsed": true
   },
   "outputs": [],
   "source": [
    "import numpy as np \n",
    "import pandas as pd\n",
    "from sklearn.preprocessing import StandardScaler\n",
    "from numpy import cov\n",
    "from numpy.linalg import eig\n",
    "from numpy import linalg as LA\n",
    "import matplotlib.pyplot as plt"
   ]
  },
  {
   "cell_type": "code",
   "execution_count": 312,
   "metadata": {
    "collapsed": true
   },
   "outputs": [],
   "source": [
    "train = pd.read_csv(\"C:\\\\Users\\\\Ipsita\\\\Downloads\\\\train.csv\")"
   ]
  },
  {
   "cell_type": "code",
   "execution_count": 313,
   "metadata": {
    "collapsed": true
   },
   "outputs": [],
   "source": [
    "X = train"
   ]
  },
  {
   "cell_type": "code",
   "execution_count": 314,
   "metadata": {},
   "outputs": [
    {
     "data": {
      "text/html": [
       "<div>\n",
       "<style scoped>\n",
       "    .dataframe tbody tr th:only-of-type {\n",
       "        vertical-align: middle;\n",
       "    }\n",
       "\n",
       "    .dataframe tbody tr th {\n",
       "        vertical-align: top;\n",
       "    }\n",
       "\n",
       "    .dataframe thead th {\n",
       "        text-align: right;\n",
       "    }\n",
       "</style>\n",
       "<table border=\"1\" class=\"dataframe\">\n",
       "  <thead>\n",
       "    <tr style=\"text-align: right;\">\n",
       "      <th></th>\n",
       "      <th>AT</th>\n",
       "      <th>V</th>\n",
       "      <th>AP</th>\n",
       "      <th>RH</th>\n",
       "      <th>PE</th>\n",
       "    </tr>\n",
       "  </thead>\n",
       "  <tbody>\n",
       "    <tr>\n",
       "      <th>0</th>\n",
       "      <td>8.34</td>\n",
       "      <td>40.77</td>\n",
       "      <td>1010.84</td>\n",
       "      <td>90.01</td>\n",
       "      <td>480.48</td>\n",
       "    </tr>\n",
       "    <tr>\n",
       "      <th>1</th>\n",
       "      <td>23.64</td>\n",
       "      <td>58.49</td>\n",
       "      <td>1011.40</td>\n",
       "      <td>74.20</td>\n",
       "      <td>445.75</td>\n",
       "    </tr>\n",
       "    <tr>\n",
       "      <th>2</th>\n",
       "      <td>29.74</td>\n",
       "      <td>56.90</td>\n",
       "      <td>1007.15</td>\n",
       "      <td>41.91</td>\n",
       "      <td>438.76</td>\n",
       "    </tr>\n",
       "    <tr>\n",
       "      <th>3</th>\n",
       "      <td>19.07</td>\n",
       "      <td>49.69</td>\n",
       "      <td>1007.22</td>\n",
       "      <td>76.79</td>\n",
       "      <td>453.09</td>\n",
       "    </tr>\n",
       "    <tr>\n",
       "      <th>4</th>\n",
       "      <td>11.80</td>\n",
       "      <td>40.66</td>\n",
       "      <td>1017.13</td>\n",
       "      <td>97.20</td>\n",
       "      <td>464.43</td>\n",
       "    </tr>\n",
       "  </tbody>\n",
       "</table>\n",
       "</div>"
      ],
      "text/plain": [
       "      AT      V       AP     RH      PE\n",
       "0   8.34  40.77  1010.84  90.01  480.48\n",
       "1  23.64  58.49  1011.40  74.20  445.75\n",
       "2  29.74  56.90  1007.15  41.91  438.76\n",
       "3  19.07  49.69  1007.22  76.79  453.09\n",
       "4  11.80  40.66  1017.13  97.20  464.43"
      ]
     },
     "execution_count": 314,
     "metadata": {},
     "output_type": "execute_result"
    }
   ],
   "source": [
    "X.head()"
   ]
  },
  {
   "cell_type": "code",
   "execution_count": 315,
   "metadata": {
    "collapsed": true
   },
   "outputs": [],
   "source": [
    "# Scaling\n",
    "scaler = StandardScaler()\n",
    "X_sc=scaler.fit_transform(X)"
   ]
  },
  {
   "cell_type": "code",
   "execution_count": 316,
   "metadata": {},
   "outputs": [
    {
     "data": {
      "text/plain": [
       "array([[-1.50850059, -1.04618804, -0.33089762,  1.22224926,  1.55318868],\n",
       "       [ 0.48643979,  0.33117312, -0.23946186,  0.1626266 , -0.46827215],\n",
       "       [ 1.28180818,  0.20758372, -0.93339394, -2.00152366, -0.87512534],\n",
       "       ...,\n",
       "       [ 1.3926382 ,  1.22894521, -0.42233337, -1.42178072, -1.43563982],\n",
       "       [-0.76528751, -0.42279997,  0.77612816,  0.23300002,  0.59920817],\n",
       "       [-0.5788323 , -0.7251665 ,  1.42434236,  0.66797479,  0.68767982]])"
      ]
     },
     "execution_count": 316,
     "metadata": {},
     "output_type": "execute_result"
    }
   ],
   "source": [
    "X_sc"
   ]
  },
  {
   "cell_type": "code",
   "execution_count": 318,
   "metadata": {
    "collapsed": true
   },
   "outputs": [],
   "source": [
    "# Covariance Matrix\n",
    "C = cov(X_sc.T)"
   ]
  },
  {
   "cell_type": "code",
   "execution_count": 319,
   "metadata": {},
   "outputs": [
    {
     "data": {
      "text/plain": [
       "array([[ 1.0033557 ,  0.8348396 , -0.48813383, -0.55855638, -0.96077486],\n",
       "       [ 0.8348396 ,  1.0033557 , -0.36566879, -0.28307369, -0.87334932],\n",
       "       [-0.48813383, -0.36566879,  1.0033557 ,  0.13255517,  0.47803789],\n",
       "       [-0.55855638, -0.28307369,  0.13255517,  1.0033557 ,  0.43555826],\n",
       "       [-0.96077486, -0.87334932,  0.47803789,  0.43555826,  1.0033557 ]])"
      ]
     },
     "execution_count": 319,
     "metadata": {},
     "output_type": "execute_result"
    }
   ],
   "source": [
    "C"
   ]
  },
  {
   "cell_type": "code",
   "execution_count": 321,
   "metadata": {
    "collapsed": true
   },
   "outputs": [],
   "source": [
    "# Eigen Values and Eigen Vectors\n",
    "eig_values, eig_vectors=np.linalg.eigh(C)"
   ]
  },
  {
   "cell_type": "code",
   "execution_count": 322,
   "metadata": {
    "collapsed": true
   },
   "outputs": [],
   "source": [
    "# sort eigen values and eigen vectors in descending order\n",
    "idx=eig_values.argsort()[::-1]\n",
    "eig_values=eig_values[idx]\n",
    "eig_vectors=eig_vectors[idx]  "
   ]
  },
  {
   "cell_type": "code",
   "execution_count": 323,
   "metadata": {},
   "outputs": [
    {
     "data": {
      "text/plain": [
       "array([3.31114307, 0.88238123, 0.66256274, 0.12948707, 0.03120441])"
      ]
     },
     "execution_count": 323,
     "metadata": {},
     "output_type": "execute_result"
    }
   ],
   "source": [
    "eig_values"
   ]
  },
  {
   "cell_type": "code",
   "execution_count": 324,
   "metadata": {},
   "outputs": [
    {
     "data": {
      "text/plain": [
       "array([[-0.67911733, -0.46286511, -0.20337715, -0.03994917,  0.53065745],\n",
       "       [-0.11739118,  0.24330317,  0.49026532,  0.76936315,  0.30780373],\n",
       "       [-0.02557016,  0.14889166,  0.69838504, -0.62320276,  0.31789008],\n",
       "       [-0.03268039, -0.72515022,  0.47569509,  0.11459969, -0.48339449],\n",
       "       [-0.72339278,  0.42254926,  0.06519335, -0.07049565, -0.53752692]])"
      ]
     },
     "execution_count": 324,
     "metadata": {},
     "output_type": "execute_result"
    }
   ],
   "source": [
    "eig_vectors"
   ]
  },
  {
   "cell_type": "code",
   "execution_count": 326,
   "metadata": {
    "collapsed": true
   },
   "outputs": [],
   "source": [
    "# Project Data\n",
    "Project = eig_vectors.T.dot(X_sc.T)"
   ]
  },
  {
   "cell_type": "code",
   "execution_count": 327,
   "metadata": {},
   "outputs": [
    {
     "data": {
      "text/plain": [
       "array([[-0.00778581, -0.02967343, -0.17252968, ...,  0.0057629 ,\n",
       "         0.10842988, -0.07748976],\n",
       "       [ 0.16440795, -0.49603118,  0.39984867, ...,  0.01589676,\n",
       "         0.45115029,  0.10975521],\n",
       "       [ 0.24546644, -0.05697217, -1.81995509, ..., -0.74560115,\n",
       "         0.64029547,  1.11952114],\n",
       "       [-0.50784252,  0.43624093,  0.52251231, ...,  1.09134047,\n",
       "        -0.79393916, -1.39437534],\n",
       "       [-2.65341603,  0.45704276,  1.88530838, ...,  2.4420082 ,\n",
       "        -0.72424295, -0.77012808]])"
      ]
     },
     "execution_count": 327,
     "metadata": {},
     "output_type": "execute_result"
    }
   ],
   "source": [
    "Project"
   ]
  },
  {
   "cell_type": "code",
   "execution_count": 329,
   "metadata": {
    "collapsed": true
   },
   "outputs": [],
   "source": [
    "error=[]\n",
    "for i in range(len(eig_vectors)):\n",
    "        G = eig_vectors[0:i+1,:]\n",
    "        check = LA.norm(((G.T.dot(G)).dot(X_sc.T))-X_sc.T)\n",
    "        error.append(check)"
   ]
  },
  {
   "cell_type": "code",
   "execution_count": 330,
   "metadata": {},
   "outputs": [
    {
     "data": {
      "image/png": "[encoded data removed]",
      "text/plain": [
       "<Figure size 432x288 with 1 Axes>"
      ]
     },
     "metadata": {},
     "output_type": "display_data"
    }
   ],
   "source": [
    "N=len(eig_vectors)\n",
    "iteration=[]\n",
    "for i in range(N):\n",
    "    iteration.append(i)\n",
    "plt.plot(iteration,error)\n",
    "plt.xlabel('Number of Iterations')\n",
    "plt.ylabel('Error')\n",
    "plt.show()"
   ]
  },
  {
   "cell_type": "code",
   "execution_count": null,
   "metadata": {
    "collapsed": true
   },
   "outputs": [],
   "source": []
  }
 ],
 "metadata": {
  "kernelspec": {
   "display_name": "Python 3",
   "language": "python",
   "name": "python3"
  },
  "language_info": {
   "codemirror_mode": {
    "name": "ipython",
    "version": 3
   },
   "file_extension": ".py",
   "mimetype": "text/x-python",
   "name": "python",
   "nbconvert_exporter": "python",
   "pygments_lexer": "ipython3",
   "version": "3.6.3"
  }
 },
 "nbformat": 4,
 "nbformat_minor": 2
}
